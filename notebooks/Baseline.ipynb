{
 "cells": [
  {
   "cell_type": "code",
   "execution_count": 1,
   "metadata": {},
   "outputs": [],
   "source": [
    "import os\n",
    "os.chdir('..')"
   ]
  },
  {
   "cell_type": "code",
   "execution_count": 2,
   "metadata": {},
   "outputs": [],
   "source": [
    "from statsmodels.tsa.ar_model import AutoReg\n",
    "\n",
    "from sklearn.metrics import mean_squared_error, confusion_matrix, accuracy_score, recall_score, precision_score\n",
    "import random\n",
    "import csv\n",
    "import pandas as pd\n",
    "import numpy as np\n",
    "import pickle\n",
    "from math import sqrt"
   ]
  },
  {
   "cell_type": "markdown",
   "metadata": {},
   "source": [
    "# Baseline model\n",
    "This notebook establishes a baseline model by training a simple autoregressive model on our housing data."
   ]
  },
  {
   "cell_type": "markdown",
   "metadata": {},
   "source": [
    "### Loading the housing data\n",
    "The model needs to be provided with a real estate economic index to analyze. Our data folder contains two indices, one for the direct real estate market and one for the securitized market. Additional indices can easily be added and implemented."
   ]
  },
  {
   "cell_type": "code",
   "execution_count": 3,
   "metadata": {},
   "outputs": [],
   "source": [
    "# Direct market\n",
    "housing_index = \"data/real_estate_data/direct/england.csv\"\n",
    "housing_column = \"House price index\"\n",
    "\n",
    "# Securitized market \n",
    "#housing_index = \"data/real_estate_data/securitized/FTSE EPRA_NAREIT UK Historical Data.csv\"\n",
    "#housing_column = \"Price\""
   ]
  },
  {
   "cell_type": "code",
   "execution_count": 4,
   "metadata": {},
   "outputs": [],
   "source": [
    "# Store\n",
    "housing_data = pd.read_csv(housing_index, parse_dates=['Period'], index_col='Period',\n",
    "                                        usecols=['Period', housing_column], thousands=',')\n",
    "\n",
    "# Line below only needed for securitzed housing index\n",
    "#housing_data.index = pd.to_datetime(housing_data.index, format=\"%b %y\")\n",
    "\n",
    "housing_data.index = housing_data.index.to_period(\"M\")\n",
    "housing_data = housing_data.sort_index()\n",
    "housing_data[housing_column] = housing_data[housing_column].astype(float)\n",
    "housing_data = housing_data.diff().dropna()# Differentiate data once so results match results from other models"
   ]
  },
  {
   "cell_type": "markdown",
   "metadata": {},
   "source": [
    "### Split data in training and test set"
   ]
  },
  {
   "cell_type": "code",
   "execution_count": 5,
   "metadata": {},
   "outputs": [],
   "source": [
    "n_test = round(len(housing_data) * 0.2)\n",
    "training_data, test_data = housing_data[0:-n_test], housing_data[-n_test:]"
   ]
  },
  {
   "cell_type": "markdown",
   "metadata": {},
   "source": [
    "### Fit the Autoregression model"
   ]
  },
  {
   "cell_type": "code",
   "execution_count": 6,
   "metadata": {
    "scrolled": false
   },
   "outputs": [
    {
     "data": {
      "text/html": [
       "<table class=\"simpletable\">\n",
       "<caption>AutoReg Model Results</caption>\n",
       "<tr>\n",
       "  <th>Dep. Variable:</th>         <td>y</td>        <th>  No. Observations:  </th>    <td>192</td>  \n",
       "</tr>\n",
       "<tr>\n",
       "  <th>Model:</th>            <td>AutoReg(2)</td>    <th>  Log Likelihood     </th> <td>-160.173</td>\n",
       "</tr>\n",
       "<tr>\n",
       "  <th>Method:</th>         <td>Conditional MLE</td> <th>  S.D. of innovations</th>   <td>0.562</td> \n",
       "</tr>\n",
       "<tr>\n",
       "  <th>Date:</th>          <td>Mon, 25 May 2020</td> <th>  AIC                </th>  <td>-1.110</td> \n",
       "</tr>\n",
       "<tr>\n",
       "  <th>Time:</th>              <td>10:31:30</td>     <th>  BIC                </th>  <td>-1.041</td> \n",
       "</tr>\n",
       "<tr>\n",
       "  <th>Sample:</th>                <td>2</td>        <th>  HQIC               </th>  <td>-1.082</td> \n",
       "</tr>\n",
       "<tr>\n",
       "  <th></th>                      <td>192</td>       <th>                     </th>     <td> </td>   \n",
       "</tr>\n",
       "</table>\n",
       "<table class=\"simpletable\">\n",
       "<tr>\n",
       "      <td></td>         <th>coef</th>     <th>std err</th>      <th>z</th>      <th>P>|z|</th>  <th>[0.025</th>    <th>0.975]</th>  \n",
       "</tr>\n",
       "<tr>\n",
       "  <th>intercept</th> <td>    0.1048</td> <td>    0.046</td> <td>    2.266</td> <td> 0.023</td> <td>    0.014</td> <td>    0.195</td>\n",
       "</tr>\n",
       "<tr>\n",
       "  <th>y.L1</th>      <td>    0.5675</td> <td>    0.072</td> <td>    7.921</td> <td> 0.000</td> <td>    0.427</td> <td>    0.708</td>\n",
       "</tr>\n",
       "<tr>\n",
       "  <th>y.L2</th>      <td>    0.1482</td> <td>    0.072</td> <td>    2.069</td> <td> 0.039</td> <td>    0.008</td> <td>    0.289</td>\n",
       "</tr>\n",
       "</table>\n",
       "<table class=\"simpletable\">\n",
       "<caption>Roots</caption>\n",
       "<tr>\n",
       "    <td></td>   <th>            Real</th>  <th>         Imaginary</th> <th>         Modulus</th>  <th>        Frequency</th>\n",
       "</tr>\n",
       "<tr>\n",
       "  <th>AR.1</th> <td>           1.3123</td> <td>          +0.0000j</td> <td>           1.3123</td> <td>           0.0000</td>\n",
       "</tr>\n",
       "<tr>\n",
       "  <th>AR.2</th> <td>          -5.1406</td> <td>          +0.0000j</td> <td>           5.1406</td> <td>           0.5000</td>\n",
       "</tr>\n",
       "</table>"
      ],
      "text/plain": [
       "<class 'statsmodels.iolib.summary.Summary'>\n",
       "\"\"\"\n",
       "                            AutoReg Model Results                             \n",
       "==============================================================================\n",
       "Dep. Variable:                      y   No. Observations:                  192\n",
       "Model:                     AutoReg(2)   Log Likelihood                -160.173\n",
       "Method:               Conditional MLE   S.D. of innovations              0.562\n",
       "Date:                Mon, 25 May 2020   AIC                             -1.110\n",
       "Time:                        10:31:30   BIC                             -1.041\n",
       "Sample:                             2   HQIC                            -1.082\n",
       "                                  192                                         \n",
       "==============================================================================\n",
       "                 coef    std err          z      P>|z|      [0.025      0.975]\n",
       "------------------------------------------------------------------------------\n",
       "intercept      0.1048      0.046      2.266      0.023       0.014       0.195\n",
       "y.L1           0.5675      0.072      7.921      0.000       0.427       0.708\n",
       "y.L2           0.1482      0.072      2.069      0.039       0.008       0.289\n",
       "                                    Roots                                    \n",
       "=============================================================================\n",
       "                  Real          Imaginary           Modulus         Frequency\n",
       "-----------------------------------------------------------------------------\n",
       "AR.1            1.3123           +0.0000j            1.3123            0.0000\n",
       "AR.2           -5.1406           +0.0000j            5.1406            0.5000\n",
       "-----------------------------------------------------------------------------\n",
       "\"\"\""
      ]
     },
     "execution_count": 6,
     "metadata": {},
     "output_type": "execute_result"
    }
   ],
   "source": [
    "model = AutoReg(list(training_data[housing_column]), lags=2)\n",
    "model_fit = model.fit()\n",
    "model_fit.summary()"
   ]
  },
  {
   "cell_type": "markdown",
   "metadata": {},
   "source": [
    "### Evaluate the performance of the baseline model\n",
    "The following code shows some key performance statistics of the basemodel, such as the MAPE, accuracy and confusion matrix."
   ]
  },
  {
   "cell_type": "code",
   "execution_count": 7,
   "metadata": {},
   "outputs": [],
   "source": [
    "predictions = model_fit.predict(start=len(training_data), end=len(training_data)+len(test_data)-1, dynamic=False)\n",
    "actuals = list(test_data[housing_column])"
   ]
  },
  {
   "cell_type": "code",
   "execution_count": 8,
   "metadata": {},
   "outputs": [
    {
     "name": "stdout",
     "output_type": "stream",
     "text": [
      "predicted=0.400511, expected=0.130000\n",
      "predicted=0.388434, expected=1.000000\n",
      "predicted=0.384620, expected=0.560000\n",
      "predicted=0.380666, expected=1.270000\n",
      "predicted=0.377856, expected=1.020000\n",
      "predicted=0.375676, expected=1.200000\n",
      "predicted=0.374022, expected=0.150000\n",
      "predicted=0.372760, expected=-0.160000\n",
      "predicted=0.371798, expected=-0.450000\n",
      "predicted=0.371066, expected=0.550000\n",
      "predicted=0.370507, expected=0.430000\n",
      "predicted=0.370082, expected=-0.160000\n",
      "predicted=0.369758, expected=0.540000\n",
      "predicted=0.369511, expected=-0.460000\n",
      "predicted=0.369323, expected=1.610000\n",
      "predicted=0.369179, expected=0.840000\n",
      "predicted=0.369070, expected=0.920000\n",
      "predicted=0.368986, expected=1.380000\n",
      "predicted=0.368923, expected=0.610000\n",
      "predicted=0.368875, expected=-0.290000\n",
      "predicted=0.368838, expected=-0.020000\n",
      "predicted=0.368810, expected=-0.450000\n",
      "predicted=0.368788, expected=0.630000\n",
      "predicted=0.368772, expected=-0.650000\n",
      "predicted=0.368760, expected=0.460000\n",
      "predicted=0.368750, expected=-0.770000\n",
      "predicted=0.368743, expected=0.970000\n",
      "predicted=0.368737, expected=0.520000\n",
      "predicted=0.368733, expected=0.750000\n",
      "predicted=0.368730, expected=1.490000\n",
      "predicted=0.368728, expected=0.310000\n",
      "predicted=0.368726, expected=-0.180000\n",
      "predicted=0.368724, expected=-0.250000\n",
      "predicted=0.368723, expected=-0.400000\n",
      "predicted=0.368722, expected=-0.270000\n",
      "predicted=0.368722, expected=-0.860000\n",
      "predicted=0.368721, expected=-0.030000\n",
      "predicted=0.368721, expected=-0.640000\n",
      "predicted=0.368721, expected=0.880000\n",
      "predicted=0.368720, expected=0.090000\n",
      "predicted=0.368720, expected=0.440000\n",
      "predicted=0.368720, expected=1.190000\n",
      "predicted=0.368720, expected=0.430000\n",
      "predicted=0.368720, expected=0.250000\n",
      "predicted=0.368720, expected=-0.280000\n",
      "predicted=0.368720, expected=-0.420000\n",
      "predicted=0.368720, expected=0.930000\n",
      "predicted=0.368720, expected=-1.500000\n",
      "Test RMSE: 0.696\n",
      "Test MAPE: 1.822\n"
     ]
    }
   ],
   "source": [
    "mape = 0\n",
    "for i in range(len(predictions)):\n",
    "    actual = actuals[i]\n",
    "    predicted = predictions[i]\n",
    "    mape += abs((actual-predicted)/actual)\n",
    "    print('predicted=%f, expected=%f' % (predicted, actual))\n",
    "\n",
    "mape = mape / len(predictions)\n",
    "rmse = sqrt(mean_squared_error(test_data, predictions))\n",
    "print('Test RMSE: %.3f' % rmse)\n",
    "print('Test MAPE: %.3f' % mape)"
   ]
  },
  {
   "cell_type": "code",
   "execution_count": 9,
   "metadata": {
    "scrolled": true
   },
   "outputs": [
    {
     "data": {
      "text/plain": [
       "0.6041666666666666"
      ]
     },
     "execution_count": 9,
     "metadata": {},
     "output_type": "execute_result"
    }
   ],
   "source": [
    "accuracy_score(np.sign(actuals), np.sign(predictions))"
   ]
  },
  {
   "cell_type": "code",
   "execution_count": 10,
   "metadata": {},
   "outputs": [
    {
     "data": {
      "text/plain": [
       "array([[ 0, 19],\n",
       "       [ 0, 29]])"
      ]
     },
     "execution_count": 10,
     "metadata": {},
     "output_type": "execute_result"
    }
   ],
   "source": [
    "confusion_matrix(np.sign(actuals), np.sign(predictions))"
   ]
  },
  {
   "cell_type": "code",
   "execution_count": 11,
   "metadata": {},
   "outputs": [
    {
     "data": {
      "text/plain": [
       "0.6041666666666666"
      ]
     },
     "execution_count": 11,
     "metadata": {},
     "output_type": "execute_result"
    }
   ],
   "source": [
    "precision_score(np.sign(actuals), np.sign(predictions))"
   ]
  }
 ],
 "metadata": {
  "kernelspec": {
   "display_name": "Python 3",
   "language": "python",
   "name": "python3"
  },
  "language_info": {
   "codemirror_mode": {
    "name": "ipython",
    "version": 3
   },
   "file_extension": ".py",
   "mimetype": "text/x-python",
   "name": "python",
   "nbconvert_exporter": "python",
   "pygments_lexer": "ipython3",
   "version": "3.5.6"
  }
 },
 "nbformat": 4,
 "nbformat_minor": 4
}
