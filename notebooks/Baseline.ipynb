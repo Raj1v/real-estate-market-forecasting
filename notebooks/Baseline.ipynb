{
 "cells": [
  {
   "cell_type": "code",
   "execution_count": 1,
   "metadata": {},
   "outputs": [],
   "source": [
    "import os\n",
    "\n",
    "os.chdir('..')"
   ]
  },
  {
   "cell_type": "code",
   "execution_count": 2,
   "metadata": {},
   "outputs": [],
   "source": [
    "from statsmodels.tsa.ar_model import AutoReg\n",
    "\n",
    "from sklearn.metrics import mean_squared_error, confusion_matrix, accuracy_score, recall_score, precision_score\n",
    "import random\n",
    "import csv\n",
    "import pandas as pd\n",
    "import numpy as np\n",
    "import pickle\n",
    "from math import sqrt"
   ]
  },
  {
   "cell_type": "code",
   "execution_count": 8,
   "metadata": {},
   "outputs": [],
   "source": [
    "housing_index = \"data/real_estate_data/direct/england.csv\"\n",
    "housing_column = \"House price index\"\n",
    "#housing_index = \"data/real_estate_data/securitized/FTSE EPRA_NAREIT UK Historical Data.csv\"\n",
    "#housing_column = \"Price\""
   ]
  },
  {
   "cell_type": "code",
   "execution_count": 9,
   "metadata": {},
   "outputs": [],
   "source": [
    "housing_data = pd.read_csv(housing_index, parse_dates=['Period'], index_col='Period',\n",
    "                                        usecols=['Period', housing_column], thousands=',')\n",
    "\n",
    "#housing_data.index = pd.to_datetime(housing_data.index, format=\"%b %y\")\n",
    "\n",
    "housing_data.index = housing_data.index.to_period(\"M\")\n",
    "housing_data = housing_data.sort_index()\n",
    "housing_data[housing_column] = housing_data[housing_column].astype(float)\n",
    "housing_data = housing_data.diff().dropna()"
   ]
  },
  {
   "cell_type": "code",
   "execution_count": 10,
   "metadata": {},
   "outputs": [],
   "source": [
    "n_test = round(len(housing_data) * 0.2)\n",
    "training_data, test_data = housing_data[0:-n_test], housing_data[-n_test:]"
   ]
  },
  {
   "cell_type": "code",
   "execution_count": 12,
   "metadata": {
    "scrolled": false
   },
   "outputs": [
    {
     "data": {
      "text/html": [
       "<table class=\"simpletable\">\n",
       "<caption>AutoReg Model Results</caption>\n",
       "<tr>\n",
       "  <th>Dep. Variable:</th>         <td>y</td>        <th>  No. Observations:  </th>    <td>192</td>  \n",
       "</tr>\n",
       "<tr>\n",
       "  <th>Model:</th>            <td>AutoReg(2)</td>    <th>  Log Likelihood     </th> <td>-160.173</td>\n",
       "</tr>\n",
       "<tr>\n",
       "  <th>Method:</th>         <td>Conditional MLE</td> <th>  S.D. of innovations</th>   <td>0.562</td> \n",
       "</tr>\n",
       "<tr>\n",
       "  <th>Date:</th>          <td>Sun, 24 May 2020</td> <th>  AIC                </th>  <td>-1.110</td> \n",
       "</tr>\n",
       "<tr>\n",
       "  <th>Time:</th>              <td>15:50:36</td>     <th>  BIC                </th>  <td>-1.041</td> \n",
       "</tr>\n",
       "<tr>\n",
       "  <th>Sample:</th>                <td>2</td>        <th>  HQIC               </th>  <td>-1.082</td> \n",
       "</tr>\n",
       "<tr>\n",
       "  <th></th>                      <td>192</td>       <th>                     </th>     <td> </td>   \n",
       "</tr>\n",
       "</table>\n",
       "<table class=\"simpletable\">\n",
       "<tr>\n",
       "      <td></td>         <th>coef</th>     <th>std err</th>      <th>z</th>      <th>P>|z|</th>  <th>[0.025</th>    <th>0.975]</th>  \n",
       "</tr>\n",
       "<tr>\n",
       "  <th>intercept</th> <td>    0.1048</td> <td>    0.046</td> <td>    2.266</td> <td> 0.023</td> <td>    0.014</td> <td>    0.195</td>\n",
       "</tr>\n",
       "<tr>\n",
       "  <th>y.L1</th>      <td>    0.5675</td> <td>    0.072</td> <td>    7.921</td> <td> 0.000</td> <td>    0.427</td> <td>    0.708</td>\n",
       "</tr>\n",
       "<tr>\n",
       "  <th>y.L2</th>      <td>    0.1482</td> <td>    0.072</td> <td>    2.069</td> <td> 0.039</td> <td>    0.008</td> <td>    0.289</td>\n",
       "</tr>\n",
       "</table>\n",
       "<table class=\"simpletable\">\n",
       "<caption>Roots</caption>\n",
       "<tr>\n",
       "    <td></td>   <th>            Real</th>  <th>         Imaginary</th> <th>         Modulus</th>  <th>        Frequency</th>\n",
       "</tr>\n",
       "<tr>\n",
       "  <th>AR.1</th> <td>           1.3123</td> <td>          +0.0000j</td> <td>           1.3123</td> <td>           0.0000</td>\n",
       "</tr>\n",
       "<tr>\n",
       "  <th>AR.2</th> <td>          -5.1406</td> <td>          +0.0000j</td> <td>           5.1406</td> <td>           0.5000</td>\n",
       "</tr>\n",
       "</table>"
      ],
      "text/plain": [
       "<class 'statsmodels.iolib.summary.Summary'>\n",
       "\"\"\"\n",
       "                            AutoReg Model Results                             \n",
       "==============================================================================\n",
       "Dep. Variable:                      y   No. Observations:                  192\n",
       "Model:                     AutoReg(2)   Log Likelihood                -160.173\n",
       "Method:               Conditional MLE   S.D. of innovations              0.562\n",
       "Date:                Sun, 24 May 2020   AIC                             -1.110\n",
       "Time:                        15:50:36   BIC                             -1.041\n",
       "Sample:                             2   HQIC                            -1.082\n",
       "                                  192                                         \n",
       "==============================================================================\n",
       "                 coef    std err          z      P>|z|      [0.025      0.975]\n",
       "------------------------------------------------------------------------------\n",
       "intercept      0.1048      0.046      2.266      0.023       0.014       0.195\n",
       "y.L1           0.5675      0.072      7.921      0.000       0.427       0.708\n",
       "y.L2           0.1482      0.072      2.069      0.039       0.008       0.289\n",
       "                                    Roots                                    \n",
       "=============================================================================\n",
       "                  Real          Imaginary           Modulus         Frequency\n",
       "-----------------------------------------------------------------------------\n",
       "AR.1            1.3123           +0.0000j            1.3123            0.0000\n",
       "AR.2           -5.1406           +0.0000j            5.1406            0.5000\n",
       "-----------------------------------------------------------------------------\n",
       "\"\"\""
      ]
     },
     "execution_count": 12,
     "metadata": {},
     "output_type": "execute_result"
    }
   ],
   "source": [
    "model = AutoReg(list(training_data[housing_column]), lags=2)\n",
    "model_fit = model.fit()\n",
    "model_fit.summary()"
   ]
  },
  {
   "cell_type": "code",
   "execution_count": 9,
   "metadata": {},
   "outputs": [
    {
     "data": {
      "text/plain": [
       "'2.890e-01'"
      ]
     },
     "execution_count": 9,
     "metadata": {},
     "output_type": "execute_result"
    }
   ],
   "source": [
    "\"{:.3e}\".format(0.289)"
   ]
  },
  {
   "cell_type": "code",
   "execution_count": 46,
   "metadata": {},
   "outputs": [],
   "source": [
    "predictions = model_fit.predict(start=len(training_data), end=len(training_data)+len(test_data)-1, dynamic=False)\n",
    "actuals = list(test_data[housing_column])"
   ]
  },
  {
   "cell_type": "code",
   "execution_count": 47,
   "metadata": {},
   "outputs": [
    {
     "name": "stdout",
     "output_type": "stream",
     "text": [
      "predicted=-0.586570, expected=-90.370000\n",
      "predicted=0.663052, expected=-14.020000\n",
      "predicted=2.923949, expected=99.800000\n",
      "predicted=3.306773, expected=-77.500000\n",
      "predicted=3.497813, expected=103.720000\n",
      "predicted=3.547236, expected=-16.360000\n",
      "predicted=3.565689, expected=77.410000\n",
      "predicted=3.571229, expected=-9.950000\n",
      "predicted=3.573115, expected=-45.950000\n",
      "predicted=3.573711, expected=25.370000\n",
      "predicted=3.573908, expected=-9.530000\n",
      "predicted=3.573971, expected=-27.790000\n",
      "predicted=3.573992, expected=-8.300000\n",
      "predicted=3.573999, expected=-2.530000\n",
      "predicted=3.574001, expected=139.010000\n",
      "predicted=3.574002, expected=-57.130000\n",
      "predicted=3.574002, expected=-92.290000\n",
      "predicted=3.574002, expected=58.020000\n",
      "predicted=3.574002, expected=82.050000\n",
      "predicted=3.574002, expected=-14.670000\n",
      "predicted=3.574002, expected=-0.180000\n",
      "predicted=3.574002, expected=-14.090000\n",
      "predicted=3.574002, expected=-43.290000\n",
      "predicted=3.574002, expected=-48.990000\n",
      "predicted=3.574002, expected=-33.490000\n",
      "predicted=3.574002, expected=-81.510000\n",
      "predicted=3.574002, expected=-60.540000\n",
      "predicted=3.574002, expected=132.720000\n",
      "predicted=3.574002, expected=34.450000\n",
      "predicted=3.574002, expected=-13.060000\n",
      "predicted=3.574002, expected=11.790000\n",
      "predicted=3.574002, expected=-58.020000\n",
      "predicted=3.574002, expected=-4.530000\n",
      "predicted=3.574002, expected=-47.990000\n",
      "predicted=3.574002, expected=31.080000\n",
      "predicted=3.574002, expected=107.170000\n",
      "predicted=3.574002, expected=83.030000\n",
      "predicted=3.574002, expected=38.900000\n",
      "predicted=3.574002, expected=82.010000\n",
      "predicted=3.574002, expected=-57.700000\n",
      "predicted=3.574002, expected=-166.000000\n",
      "predicted=3.574002, expected=-327.680000\n",
      "predicted=3.574002, expected=95.290000\n",
      "Test RMSE: 84.021\n",
      "Test MAPE: 1.559\n"
     ]
    }
   ],
   "source": [
    "mape = 0\n",
    "for i in range(len(predictions)):\n",
    "    actual = actuals[i]\n",
    "    predicted = predictions[i]\n",
    "    mape += abs((actual-predicted)/actual)\n",
    "    print('predicted=%f, expected=%f' % (predicted, actual))\n",
    "\n",
    "mape = mape / len(predictions)\n",
    "rmse = sqrt(mean_squared_error(test_data, predictions))\n",
    "print('Test RMSE: %.3f' % rmse)\n",
    "print('Test MAPE: %.3f' % mape)"
   ]
  },
  {
   "cell_type": "code",
   "execution_count": 48,
   "metadata": {
    "scrolled": true
   },
   "outputs": [
    {
     "data": {
      "text/plain": [
       "0.3953488372093023"
      ]
     },
     "execution_count": 48,
     "metadata": {},
     "output_type": "execute_result"
    }
   ],
   "source": [
    "accuracy_score(np.sign(actuals), np.sign(predictions))"
   ]
  },
  {
   "cell_type": "code",
   "execution_count": 49,
   "metadata": {},
   "outputs": [
    {
     "data": {
      "text/plain": [
       "array([[ 1, 26],\n",
       "       [ 0, 16]])"
      ]
     },
     "execution_count": 49,
     "metadata": {},
     "output_type": "execute_result"
    }
   ],
   "source": [
    "confusion_matrix(np.sign(actuals), np.sign(predictions))"
   ]
  },
  {
   "cell_type": "code",
   "execution_count": 50,
   "metadata": {},
   "outputs": [
    {
     "data": {
      "text/plain": [
       "0.38095238095238093"
      ]
     },
     "execution_count": 50,
     "metadata": {},
     "output_type": "execute_result"
    }
   ],
   "source": [
    "precision_score(np.sign(actuals), np.sign(predictions))"
   ]
  },
  {
   "cell_type": "code",
   "execution_count": null,
   "metadata": {},
   "outputs": [],
   "source": []
  }
 ],
 "metadata": {
  "kernelspec": {
   "display_name": "Python 3",
   "language": "python",
   "name": "python3"
  },
  "language_info": {
   "codemirror_mode": {
    "name": "ipython",
    "version": 3
   },
   "file_extension": ".py",
   "mimetype": "text/x-python",
   "name": "python",
   "nbconvert_exporter": "python",
   "pygments_lexer": "ipython3",
   "version": "3.5.6"
  }
 },
 "nbformat": 4,
 "nbformat_minor": 4
}
