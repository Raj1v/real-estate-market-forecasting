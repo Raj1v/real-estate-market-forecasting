{
 "cells": [
  {
   "cell_type": "code",
   "execution_count": 1,
   "metadata": {},
   "outputs": [],
   "source": [
    "import os\n",
    "os.chdir('..')"
   ]
  },
  {
   "cell_type": "code",
   "execution_count": 2,
   "metadata": {},
   "outputs": [],
   "source": [
    "import articles as art\n",
    "import numpy as np\n",
    "import pickle\n",
    "import matplotlib.pyplot as plt"
   ]
  },
  {
   "cell_type": "code",
   "execution_count": 6,
   "metadata": {},
   "outputs": [],
   "source": [
    "classifier_file = open('pickles/svm_classifier_prob', 'rb')\n",
    "classifier = pickle.load(classifier_file)\n",
    "classifier_file.close()\n",
    "vectorizer_file = open('pickles/vectorizer_2','rb')\n",
    "vectorizer = pickle.load(vectorizer_file)\n",
    "vectorizer_file.close()"
   ]
  },
  {
   "cell_type": "code",
   "execution_count": 7,
   "metadata": {},
   "outputs": [],
   "source": [
    "articles = art.load_articles()"
   ]
  },
  {
   "cell_type": "code",
   "execution_count": 8,
   "metadata": {},
   "outputs": [
    {
     "name": "stdout",
     "output_type": "stream",
     "text": [
      "0.14529815180750902\n",
      "0.29059630361501804\n",
      "0.435894455422527\n",
      "0.5811926072300361\n",
      "0.726490759037545\n",
      "0.871788910845054\n",
      "Disagreement between probabilities and classification: 6632 / 34412\n"
     ]
    }
   ],
   "source": [
    "disagreement = 0\n",
    "confidences = {'-1': [], '0': [], '1': []}\n",
    "i = 0\n",
    "for article in articles:\n",
    "    i += 1\n",
    "    if i % 5000 == 0:\n",
    "        print(i/len(articles))\n",
    "    review_vector = vectorizer.transform([article.body])\n",
    "    \n",
    "    probabilities = classifier.predict_proba(review_vector)\n",
    "    classification = classifier.predict(review_vector)[0]\n",
    "    classification_prob = np.argmax(probabilities) - 1\n",
    "    if(int(classification) != classification_prob):\n",
    "        disagreement += 1\n",
    "    else:\n",
    "        confidence = np.max(probabilities)\n",
    "        confidences[classification].append([confidence, i-1])\n",
    "        \n",
    "        \n",
    "print(\"Disagreement between probabilities and classification:\", disagreement, \"/\", len(articles))"
   ]
  },
  {
   "cell_type": "code",
   "execution_count": 10,
   "metadata": {},
   "outputs": [
    {
     "name": "stdout",
     "output_type": "stream",
     "text": [
      "Top 10 most confident classifications in class: -1\n",
      "[[0.9999079978820758, 18307], [0.9999161186499747, 23295], [0.9999235555125868, 13900], [0.9999236118221466, 26101], [0.9999325351784119, 22969], [0.999937884451687, 26388], [0.9999667872310974, 23163], [0.9999679859060179, 13117], [0.9999756993304656, 14515], [0.9999756993304656, 15997], [0.9999786230558463, 20355]]\n",
      "<Article {headline: 'House price rise adds to pressure on Bank to increase rates', date: 8-2006, source: guardian}>\n",
      "<Article {headline: 'Recession threatens to derail Labour's anti-poverty drive', date: 12-2008, source: guardian}>\n",
      "<Article {headline: 'MPC ready to counter downturn with rate cut', date: 9-2002, source: guardian}>\n",
      "<Article {headline: 'Federal Reserve holds interest rates again as US recovery remains fragile', date: 6-2011, source: guardian}>\n",
      "<Article {headline: 'Week in which global catastrophe was averted', date: 10-2008, source: guardian}>\n",
      "<Article {headline: 'Inflation pushes UK Misery Index to highest since Black Wednesday', date: 10-2011, source: guardian}>\n",
      "<Article {headline: 'Unions ask for benefit boost as 5,000 more job cuts announced', date: 11-2008, source: guardian}>\n",
      "<Article {headline: 'Rising cost of dealing with bad tenants', date: 11-2001, source: guardian}>\n",
      "<Article {headline: 'The Budget: personal finance highlights', date: 4-2003, source: guardian}>\n",
      "<Article {headline: 'In brief', date: 7-2004, source: guardian}>\n",
      "<Article {headline: 'Property prices not immune to disaster', date: 10-2007, source: guardian}>\n",
      "Top 10 most confident classifications in class: 0\n",
      "[[0.9993619262479411, 23801], [0.9993863359702141, 26724], [0.999477636070838, 22589], [0.9995600137603758, 2391], [0.9996453719485902, 11290], [0.9997974044695571, 14280], [0.9998352476246447, 28729], [0.9998674591024436, 21728], [0.9998808067878857, 28450], [0.9998808067878857, 28517], [0.9999402298180338, 18140]]\n",
      "<Article {headline: 'House prices resume decline', date: 4-2009, source: guardian}>\n",
      "<Article {headline: 'How will the student loan repayment proposals affect you?', date: 2-2012, source: guardian}>\n",
      "<Article {headline: 'Q&A: Pension credits', date: 9-2008, source: guardian}>\n",
      "<Article {headline: 'House prices down 15.9% on a year ago', date: 1-2009, source: ft}>\n",
      "<Article {headline: 'Theresa May promises ‘new generation of council homes’', date: 8-2018, source: ft}>\n",
      "<Article {headline: 'Property market shows further signs of slowing', date: 1-2003, source: guardian}>\n",
      "<Article {headline: 'JP Morgan's $13bn settlement â€“ the record-setting penalty explained', date: 11-2013, source: guardian}>\n",
      "<Article {headline: 'Why did the Bank sit on its hands?', date: 5-2008, source: guardian}>\n",
      "<Article {headline: 'Help to buy? Yes please, say bankers â€“ why use our cash to invest in property?', date: 10-2013, source: guardian}>\n",
      "<Article {headline: 'Help to buy? Yes please, say bankers â€“ why use our cash to invest in property?', date: 10-2013, source: guardian}>\n",
      "<Article {headline: 'House prices to rise 7% this year', date: 6-2006, source: guardian}>\n",
      "Top 10 most confident classifications in class: 1\n",
      "[[0.9980712152510383, 2054], [0.9981718165719735, 4634], [0.9985097419435086, 13741], [0.9985172971305265, 28847], [0.998893351179184, 29333], [0.9999907662262648, 18881], [0.9999932677922742, 7365], [0.9999932844645794, 32309], [0.9999939415608629, 27321], [0.9999951748394538, 13754], [0.9999988905385744, 26139]]\n",
      "<Article {headline: 'Atticus seeks to boost investors', date: 10-2008, source: ft}>\n",
      "<Article {headline: 'Galliford Try points to housing recovery', date: 2-2011, source: ft}>\n",
      "<Article {headline: 'Controlled correction', date: 7-2002, source: guardian}>\n",
      "<Article {headline: 'Ben Bernanke's final message: get your economic act together, Congress', date: 12-2013, source: guardian}>\n",
      "<Article {headline: 'UK garden centres expecting a boost from later and warmer Easter', date: 4-2014, source: guardian}>\n",
      "<Article {headline: 'House of Fraser: what the analysts say', date: 1-2007, source: guardian}>\n",
      "<Article {headline: 'Construction data show sector on firmer footing', date: 1-2014, source: ft}>\n",
      "<Article {headline: 'Rising incomes mean nothing if prices rise even faster', date: 2-2017, source: guardian}>\n",
      "<Article {headline: 'ADP: US adds 158,000 jobs in October in sign economy is 'holding its own'', date: 11-2012, source: guardian}>\n",
      "<Article {headline: 'Anglo's drug policy has real value', date: 8-2002, source: guardian}>\n",
      "<Article {headline: 'Private equity chief wants profits cap on care-home owners', date: 7-2011, source: guardian}>\n"
     ]
    }
   ],
   "source": [
    "for classification, classified_articles in confidences.items():\n",
    "    print(\"Top 10 most confident classifications in class:\", classification)\n",
    "    top_10 = sorted(classified_articles, key=lambda x: x[0])[-11:]\n",
    "    print(top_10)\n",
    "    article_ids = [article[1] for article in top_10]\n",
    "    for article_id in article_ids:\n",
    "        article = articles[article_id]\n",
    "        print(article)"
   ]
  },
  {
   "cell_type": "code",
   "execution_count": 8,
   "metadata": {},
   "outputs": [],
   "source": [
    "negative_confidences = [confidence[0] for confidence in confidences['-1']]\n",
    "neutral_confidences = [confidence[0] for confidence in confidences['0']]\n",
    "positive_confidences = [confidence[0] for confidence in confidences['1']]"
   ]
  },
  {
   "cell_type": "code",
   "execution_count": 14,
   "metadata": {},
   "outputs": [
    {
     "data": {
      "image/png": "[encoded data removed]",
      "text/plain": [
       "<Figure size 432x288 with 1 Axes>"
      ]
     },
     "metadata": {
      "needs_background": "light"
     },
     "output_type": "display_data"
    }
   ],
   "source": [
    "fig, ax = plt.subplots()\n",
    "ax.boxplot([negative_confidences, neutral_confidences, positive_confidences], showfliers=False)\n",
    "ax.set_xticklabels([\"Negative\", \"Neutral\", \"Positive\"])\n",
    "ax.set_ylabel('Confidence')\n",
    "plt.savefig(\"SVM_confidence.png\")\n",
    "plt.show()\n"
   ]
  }
 ],
 "metadata": {
  "kernelspec": {
   "display_name": "Python 3",
   "language": "python",
   "name": "python3"
  },
  "language_info": {
   "codemirror_mode": {
    "name": "ipython",
    "version": 3
   },
   "file_extension": ".py",
   "mimetype": "text/x-python",
   "name": "python",
   "nbconvert_exporter": "python",
   "pygments_lexer": "ipython3",
   "version": "3.6.10"
  }
 },
 "nbformat": 4,
 "nbformat_minor": 4
}
