{
 "cells": [
  {
   "cell_type": "code",
   "execution_count": 1,
   "metadata": {},
   "outputs": [],
   "source": [
    "import os\n",
    "os.chdir('..')"
   ]
  },
  {
   "cell_type": "code",
   "execution_count": 2,
   "metadata": {},
   "outputs": [],
   "source": [
    "import articles as art\n",
    "import numpy as np\n",
    "import pickle\n",
    "import matplotlib.pyplot as plt"
   ]
  },
  {
   "cell_type": "markdown",
   "metadata": {},
   "source": [
    "# SVM Confidence\n",
    "This notebook is used the analyze the confidence with which any trained SVM sentiment classifies news articles."
   ]
  },
  {
   "cell_type": "markdown",
   "metadata": {},
   "source": [
    "## Step 1. Load the SVM classifier, vectorizer and articles\n",
    "First, we need to load the SVM we want to analyze, alongside its vectorizer and articles. Note that the SVM classifier has to be trained with the parameter `probability=True` in order to give probability estimates of its classification confidence."
   ]
  },
  {
   "cell_type": "code",
   "execution_count": 7,
   "metadata": {},
   "outputs": [],
   "source": [
    "classifier_file = 'pickles/svm_classifier_prob'\n",
    "classifier = pickle.load( open( classifier_file, \"rb\" ) )\n",
    "vectorizer_file = 'pickles/vectorizer_2'\n",
    "vectorizer = pickle.load( open( vectorizer_file, \"rb\" ) )"
   ]
  },
  {
   "cell_type": "code",
   "execution_count": 8,
   "metadata": {},
   "outputs": [],
   "source": [
    "articles = art.load_articles()"
   ]
  },
  {
   "cell_type": "markdown",
   "metadata": {},
   "source": [
    "## Step 2. Analyze the classification of articles\n",
    "The code below makes the SVM classify all articles that are provided. Furthermore, the SVM provides the highest class probability per article. Note that this probability and the final classification don't always agree (see sklearn documentation). Therefore, we keep track this disagreement and store only classification confidence if probability and classification agree."
   ]
  },
  {
   "cell_type": "code",
   "execution_count": 12,
   "metadata": {},
   "outputs": [
    {
     "name": "stdout",
     "output_type": "stream",
     "text": [
      "0.0\n",
      "0.14529815180750902\n",
      "0.29059630361501804\n",
      "0.435894455422527\n",
      "0.5811926072300361\n",
      "0.726490759037545\n",
      "0.871788910845054\n",
      "Disagreement between probabilities and classification: 6632 / 34412\n"
     ]
    }
   ],
   "source": [
    "disagreement = 0\n",
    "confidences = {'-1': [], '0': [], '1': []}\n",
    "\n",
    "for i, article in enumerate(articles):\n",
    "    \n",
    "    # Print progress of loop\n",
    "    if i % 5000 == 0:\n",
    "        print(i/len(articles))\n",
    "        \n",
    "    # Determine probability and classification\n",
    "    review_vector = vectorizer.transform([article.body])\n",
    "    probabilities = classifier.predict_proba(review_vector)\n",
    "    classification = classifier.predict(review_vector)[0]\n",
    "    classification_prob = np.argmax(probabilities) - 1\n",
    "    \n",
    "    # Check if probability and classification agree. If so, store the probability as classication confidence\n",
    "    if(int(classification) != classification_prob):\n",
    "        disagreement += 1\n",
    "    else:\n",
    "        confidence = np.max(probabilities)\n",
    "        confidences[classification].append([confidence, i])\n",
    "        \n",
    "        \n",
    "print(\"Disagreement between probabilities and classification:\", disagreement, \"/\", len(articles))"
   ]
  },
  {
   "cell_type": "markdown",
   "metadata": {},
   "source": [
    "## Step 3. Evaluate the confidence levels of the SVM\n",
    "The section below shows the top 10 most confidently classified articles in each sentiment class and boxplots of the classification confidences of each class."
   ]
  },
  {
   "cell_type": "code",
   "execution_count": 13,
   "metadata": {},
   "outputs": [
    {
     "name": "stdout",
     "output_type": "stream",
     "text": [
      "Top 10 most confident classifications in class: -1\n",
      "<Article {headline: 'House price rise adds to pressure on Bank to increase rates', date: 8-2006, source: guardian}>\n",
      "<Article {headline: 'Recession threatens to derail Labour's anti-poverty drive', date: 12-2008, source: guardian}>\n",
      "<Article {headline: 'MPC ready to counter downturn with rate cut', date: 9-2002, source: guardian}>\n",
      "<Article {headline: 'Federal Reserve holds interest rates again as US recovery remains fragile', date: 6-2011, source: guardian}>\n",
      "<Article {headline: 'Week in which global catastrophe was averted', date: 10-2008, source: guardian}>\n",
      "<Article {headline: 'Inflation pushes UK Misery Index to highest since Black Wednesday', date: 10-2011, source: guardian}>\n",
      "<Article {headline: 'Unions ask for benefit boost as 5,000 more job cuts announced', date: 11-2008, source: guardian}>\n",
      "<Article {headline: 'Rising cost of dealing with bad tenants', date: 11-2001, source: guardian}>\n",
      "<Article {headline: 'The Budget: personal finance highlights', date: 4-2003, source: guardian}>\n",
      "<Article {headline: 'In brief', date: 7-2004, source: guardian}>\n",
      "<Article {headline: 'Property prices not immune to disaster', date: 10-2007, source: guardian}>\n",
      "Top 10 most confident classifications in class: 0\n",
      "<Article {headline: 'House prices resume decline', date: 4-2009, source: guardian}>\n",
      "<Article {headline: 'How will the student loan repayment proposals affect you?', date: 2-2012, source: guardian}>\n",
      "<Article {headline: 'Q&A: Pension credits', date: 9-2008, source: guardian}>\n",
      "<Article {headline: 'House prices down 15.9% on a year ago', date: 1-2009, source: ft}>\n",
      "<Article {headline: 'Theresa May promises ‘new generation of council homes’', date: 8-2018, source: ft}>\n",
      "<Article {headline: 'Property market shows further signs of slowing', date: 1-2003, source: guardian}>\n",
      "<Article {headline: 'JP Morgan's $13bn settlement â€“ the record-setting penalty explained', date: 11-2013, source: guardian}>\n",
      "<Article {headline: 'Why did the Bank sit on its hands?', date: 5-2008, source: guardian}>\n",
      "<Article {headline: 'Help to buy? Yes please, say bankers â€“ why use our cash to invest in property?', date: 10-2013, source: guardian}>\n",
      "<Article {headline: 'Help to buy? Yes please, say bankers â€“ why use our cash to invest in property?', date: 10-2013, source: guardian}>\n",
      "<Article {headline: 'House prices to rise 7% this year', date: 6-2006, source: guardian}>\n",
      "Top 10 most confident classifications in class: 1\n",
      "<Article {headline: 'Atticus seeks to boost investors', date: 10-2008, source: ft}>\n",
      "<Article {headline: 'Galliford Try points to housing recovery', date: 2-2011, source: ft}>\n",
      "<Article {headline: 'Controlled correction', date: 7-2002, source: guardian}>\n",
      "<Article {headline: 'Ben Bernanke's final message: get your economic act together, Congress', date: 12-2013, source: guardian}>\n",
      "<Article {headline: 'UK garden centres expecting a boost from later and warmer Easter', date: 4-2014, source: guardian}>\n",
      "<Article {headline: 'House of Fraser: what the analysts say', date: 1-2007, source: guardian}>\n",
      "<Article {headline: 'Construction data show sector on firmer footing', date: 1-2014, source: ft}>\n",
      "<Article {headline: 'Rising incomes mean nothing if prices rise even faster', date: 2-2017, source: guardian}>\n",
      "<Article {headline: 'ADP: US adds 158,000 jobs in October in sign economy is 'holding its own'', date: 11-2012, source: guardian}>\n",
      "<Article {headline: 'Anglo's drug policy has real value', date: 8-2002, source: guardian}>\n",
      "<Article {headline: 'Private equity chief wants profits cap on care-home owners', date: 7-2011, source: guardian}>\n"
     ]
    }
   ],
   "source": [
    "for classification, classified_articles in confidences.items():\n",
    "    print(\"Top 10 most confident classifications in class:\", classification)\n",
    "    top_10 = sorted(classified_articles, key=lambda x: x[0])[-11:]\n",
    "    article_ids = [article[1] for article in top_10]\n",
    "    for article_id in article_ids:\n",
    "        article = articles[article_id]\n",
    "        print(article)"
   ]
  },
  {
   "cell_type": "code",
   "execution_count": 14,
   "metadata": {},
   "outputs": [],
   "source": [
    "negative_confidences = [confidence[0] for confidence in confidences['-1']]\n",
    "neutral_confidences = [confidence[0] for confidence in confidences['0']]\n",
    "positive_confidences = [confidence[0] for confidence in confidences['1']]"
   ]
  },
  {
   "cell_type": "code",
   "execution_count": 15,
   "metadata": {},
   "outputs": [
    {
     "data": {
      "image/png": "[encoded data removed]",
      "text/plain": [
       "<Figure size 432x288 with 1 Axes>"
      ]
     },
     "metadata": {
      "needs_background": "light"
     },
     "output_type": "display_data"
    }
   ],
   "source": [
    "fig, ax = plt.subplots()\n",
    "ax.boxplot([negative_confidences, neutral_confidences, positive_confidences], showfliers=False)\n",
    "ax.set_xticklabels([\"Negative\", \"Neutral\", \"Positive\"])\n",
    "ax.set_ylabel('Confidence')\n",
    "plt.savefig(\"SVM_confidence.png\")\n",
    "plt.show()\n"
   ]
  }
 ],
 "metadata": {
  "kernelspec": {
   "display_name": "Python 3",
   "language": "python",
   "name": "python3"
  },
  "language_info": {
   "codemirror_mode": {
    "name": "ipython",
    "version": 3
   },
   "file_extension": ".py",
   "mimetype": "text/x-python",
   "name": "python",
   "nbconvert_exporter": "python",
   "pygments_lexer": "ipython3",
   "version": "3.6.10"
  }
 },
 "nbformat": 4,
 "nbformat_minor": 4
}
