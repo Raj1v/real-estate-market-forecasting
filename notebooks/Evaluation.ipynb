{
 "cells": [
  {
   "cell_type": "code",
   "execution_count": 2,
   "metadata": {},
   "outputs": [],
   "source": [
    "import os\n",
    "os.chdir('..')"
   ]
  },
  {
   "cell_type": "code",
   "execution_count": 3,
   "metadata": {},
   "outputs": [
    {
     "name": "stdout",
     "output_type": "stream",
     "text": [
      "  Summary of Regression Results   \n",
      "==================================\n",
      "Model:                         VAR\n",
      "Method:                        OLS\n",
      "Date:           Sun, 26, Apr, 2020\n",
      "Time:                     10:58:20\n",
      "--------------------------------------------------------------------\n",
      "No. of Equations:         2.00000    BIC:                   -13.0996\n",
      "Nobs:                     190.000    HQIC:                  -13.2013\n",
      "Log likelihood:           731.501    FPE:                1.72467e-06\n",
      "AIC:                     -13.2705    Det(Omega_mle):     1.63736e-06\n",
      "--------------------------------------------------------------------\n",
      "Results for equation House price index\n",
      "=======================================================================================\n",
      "                          coefficient       std. error           t-stat            prob\n",
      "---------------------------------------------------------------------------------------\n",
      "const                        0.105152         0.046541            2.259           0.024\n",
      "L1.House price index         0.561236         0.072535            7.738           0.000\n",
      "L1.Positive Scores         -28.989751        17.645356           -1.643           0.100\n",
      "L2.House price index         0.154310         0.072378            2.132           0.033\n",
      "L2.Positive Scores         -15.736452        17.672494           -0.890           0.373\n",
      "=======================================================================================\n",
      "\n",
      "Results for equation Positive Scores\n",
      "=======================================================================================\n",
      "                          coefficient       std. error           t-stat            prob\n",
      "---------------------------------------------------------------------------------------\n",
      "const                        0.000024         0.000186            0.131           0.896\n",
      "L1.House price index         0.000210         0.000291            0.724           0.469\n",
      "L1.Positive Scores          -0.548178         0.070674           -7.756           0.000\n",
      "L2.House price index        -0.000298         0.000290           -1.028           0.304\n",
      "L2.Positive Scores          -0.247116         0.070782           -3.491           0.000\n",
      "=======================================================================================\n",
      "\n",
      "Correlation matrix of residuals\n",
      "                     House price index  Positive Scores\n",
      "House price index             1.000000        -0.049821\n",
      "Positive Scores              -0.049821         1.000000\n",
      "\n",
      "\n",
      "\n",
      "  Summary of Regression Results   \n",
      "==================================\n",
      "Model:                         VAR\n",
      "Method:                        OLS\n",
      "Date:           Sun, 26, Apr, 2020\n",
      "Time:                     10:58:20\n",
      "--------------------------------------------------------------------\n",
      "No. of Equations:         2.00000    BIC:                   -11.9392\n",
      "Nobs:                     189.000    HQIC:                  -12.0820\n",
      "Log likelihood:           628.588    FPE:                5.13589e-06\n",
      "AIC:                     -12.1793    Det(Omega_mle):     4.77559e-06\n",
      "--------------------------------------------------------------------\n",
      "Results for equation House price index\n",
      "=======================================================================================\n",
      "                          coefficient       std. error           t-stat            prob\n",
      "---------------------------------------------------------------------------------------\n",
      "const                        0.089049         0.046819            1.902           0.057\n",
      "L1.House price index         0.543970         0.072569            7.496           0.000\n",
      "L1.Negative Scores          -6.611612        10.362001           -0.638           0.523\n",
      "L2.House price index         0.128659         0.082892            1.552           0.121\n",
      "L2.Negative Scores         -27.363733        12.540059           -2.182           0.029\n",
      "L3.House price index         0.078499         0.072772            1.079           0.281\n",
      "L3.Negative Scores         -25.441017        10.393161           -2.448           0.014\n",
      "=======================================================================================\n",
      "\n",
      "Results for equation Negative Scores\n",
      "=======================================================================================\n",
      "                          coefficient       std. error           t-stat            prob\n",
      "---------------------------------------------------------------------------------------\n",
      "const                       -0.000343         0.000328           -1.046           0.296\n",
      "L1.House price index         0.000297         0.000508            0.585           0.558\n",
      "L1.Negative Scores          -0.802331         0.072540          -11.061           0.000\n",
      "L2.House price index         0.000156         0.000580            0.269           0.788\n",
      "L2.Negative Scores          -0.425252         0.087787           -4.844           0.000\n",
      "L3.House price index         0.000719         0.000509            1.412           0.158\n",
      "L3.Negative Scores          -0.133513         0.072758           -1.835           0.067\n",
      "=======================================================================================\n",
      "\n",
      "Correlation matrix of residuals\n",
      "                     House price index  Negative Scores\n",
      "House price index             1.000000        -0.073092\n",
      "Negative Scores              -0.073092         1.000000\n",
      "\n",
      "\n",
      "\n"
     ]
    }
   ],
   "source": [
    "import articles as art\n",
    "from evaluation import Evaluator"
   ]
  },
  {
   "cell_type": "code",
   "execution_count": 4,
   "metadata": {},
   "outputs": [
    {
     "ename": "NameError",
     "evalue": "name 'Model1' is not defined",
     "output_type": "error",
     "traceback": [
      "\u001b[0;31m---------------------------------------------------------------------------\u001b[0m",
      "\u001b[0;31mNameError\u001b[0m                                 Traceback (most recent call last)",
      "\u001b[0;32m<ipython-input-4-48debcc347ed>\u001b[0m in \u001b[0;36m<module>\u001b[0;34m()\u001b[0m\n\u001b[1;32m      1\u001b[0m \u001b[0marticles\u001b[0m \u001b[0;34m=\u001b[0m \u001b[0mart\u001b[0m\u001b[0;34m.\u001b[0m\u001b[0mload_articles\u001b[0m\u001b[0;34m(\u001b[0m\u001b[0;34m)\u001b[0m\u001b[0;34m\u001b[0m\u001b[0m\n\u001b[1;32m      2\u001b[0m \u001b[0mhousing_index\u001b[0m \u001b[0;34m=\u001b[0m \u001b[0;34m'data/real_estate_data/direct/england.csv'\u001b[0m\u001b[0;34m\u001b[0m\u001b[0m\n\u001b[0;32m----> 3\u001b[0;31m \u001b[0mev\u001b[0m \u001b[0;34m=\u001b[0m \u001b[0mEvaluator\u001b[0m\u001b[0;34m(\u001b[0m\u001b[0mModel1\u001b[0m\u001b[0;34m(\u001b[0m\u001b[0marticles\u001b[0m\u001b[0;34m)\u001b[0m\u001b[0;34m,\u001b[0m \u001b[0marticles\u001b[0m\u001b[0;34m,\u001b[0m \u001b[0mhousing_index\u001b[0m\u001b[0;34m)\u001b[0m\u001b[0;34m\u001b[0m\u001b[0m\n\u001b[0m",
      "\u001b[0;31mNameError\u001b[0m: name 'Model1' is not defined"
     ]
    }
   ],
   "source": [
    "articles = art.load_articles()\n",
    "housing_index = 'data/real_estate_data/direct/england.csv'\n",
    "ev = Evaluator(Model1(articles), articles, housing_index)\n"
   ]
  }
 ],
 "metadata": {
  "kernelspec": {
   "display_name": "Python 3",
   "language": "python",
   "name": "python3"
  },
  "language_info": {
   "codemirror_mode": {
    "name": "ipython",
    "version": 3
   },
   "file_extension": ".py",
   "mimetype": "text/x-python",
   "name": "python",
   "nbconvert_exporter": "python",
   "pygments_lexer": "ipython3",
   "version": "3.5.6"
  }
 },
 "nbformat": 4,
 "nbformat_minor": 4
}
